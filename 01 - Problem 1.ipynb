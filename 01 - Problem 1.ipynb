{
 "cells": [
  {
   "cell_type": "markdown",
   "metadata": {},
   "source": [
    "# Problem 1: Determine the Ground State Structures for the Two Phases "
   ]
  },
  {
   "cell_type": "markdown",
   "metadata": {},
   "source": [
    "NOTICE TO BINDER USERS: YOUR NOTEBOOK PROGRESS WILL NOT BE SAVED IF YOU CLOSE THIS WINDOW OR LEAVE IT INACTIVE FOR TOO LONG.\n",
    "\n",
    "PLEASE DOWNLOAD YOUR NOTEBOOKS AND FILES REGULARLY OR DOWNLOAD THIS REPO AND RUN OFFLINE ON YOUR MACHINE. See \"running_offline.md\" for more info."
   ]
  },
  {
   "cell_type": "markdown",
   "metadata": {},
   "source": [
    "## Part A&B: VASP Input Files "
   ]
  },
  {
   "cell_type": "markdown",
   "metadata": {},
   "source": [
    "First, we need to prepare a POSCAR for the diamond cubic structure. To do this, we'll import some classes from the [pymatgen](http://pymatgen.org/) library for python, which is written and maintained by the Materials Project."
   ]
  },
  {
   "cell_type": "code",
   "execution_count": null,
   "metadata": {
    "scrolled": true
   },
   "outputs": [],
   "source": [
    "from pymatgen import Structure, Lattice, PeriodicSite\n",
    "from pymatgen.symmetry.analyzer import SpacegroupAnalyzer"
   ]
  },
  {
   "cell_type": "markdown",
   "metadata": {},
   "source": [
    "Now we'll create a lattice for DC silicon.\n",
    "\n",
    "The diamond cubic structure can be thought of as two interpenetrating face centered cubic (FCC) lattices (Let's start by defining the lattice in the more familiar interpenetrating FCC basis and then simplify it to the primitive unit cell with pymatgen. The coordinates of the atoms in the DC structure are (in terms of the lattice vectors):\n",
    "\n",
    "\n",
    "$\\big[ 0, 0, 0 \\big]$, \n",
    "$\\big[ \\frac{1}{4}, \\frac{1}{4}, \\frac{1}{4} \\big]$, \n",
    "$\\big[ \\frac{1}{2}, \\frac{1}{2}, 0 \\big]$, \n",
    "$\\big[ \\frac{1}{2}, 0, \\frac{1}{2}\\big]$, \n",
    "$\\big[ 0, \\frac{1}{2}, \\frac{1}{2}\\big]$,\n",
    "$\\big[ \\frac{1}{4}, \\frac{3}{4}, \\frac{3}{4} \\big]$, \n",
    "$\\big[ \\frac{3}{4}, \\frac{1}{4}, \\frac{3}{4} \\big]$, \n",
    "$\\big[ \\frac{3}{4}, \\frac{3}{4}, \\frac{1}{4} \\big]$\n"
   ]
  },
  {
   "cell_type": "code",
   "execution_count": null,
   "metadata": {
    "scrolled": true
   },
   "outputs": [],
   "source": [
    "# Define the lattice parameter, in Å\n",
    "lattice_parameter = # YOUR CODE HERE\n",
    "\n",
    "# Create a cubic lattice with the lattice parameter above\n",
    "cubic_lattice = Lattice.cubic(lattice_parameter)\n",
    "\n",
    "# Create a list of coordinates (i.e. [[x, y, z], [x2, y2, z2], ...])\n",
    "DC_coordinates = # YOUR CODE HERE \n",
    "\n",
    "DC_species = [\"Si\" for coord in DC_coordinates] # creates the list of Si species used when creating the Structure\n",
    "\n",
    "# Create the structure\n",
    "Si_DC = Structure(cubic_lattice, species=DC_species, coords=DC_coordinates ) # creates the Structure\n",
    "\n",
    "# Simplify the structure to a primitive one\n",
    "Si_DC = SpacegroupAnalyzer(Si_DC).get_primitive_standard_structure()"
   ]
  },
  {
   "cell_type": "markdown",
   "metadata": {},
   "source": [
    "When you enter \"`print(Si_DC)`\", you should get something that looks similar to the following (sites may be in different order):\n",
    "\n",
    "```\n",
    "Full Formula (Si2)\n",
    "Reduced Formula: Si\n",
    "abc   :   3.839590   3.839590   3.839590\n",
    "angles:  60.000000  60.000000  60.000000\n",
    "Sites (2)\n",
    "  #  SP       a     b     c\n",
    "---  ----  ----  ----  ----\n",
    "  0  Si    0     0     0\n",
    "  1  Si    0.25  0.25  0.25\n",
    "  ```"
   ]
  },
  {
   "cell_type": "code",
   "execution_count": null,
   "metadata": {},
   "outputs": [],
   "source": [
    "print(Si_DC)"
   ]
  },
  {
   "cell_type": "markdown",
   "metadata": {},
   "source": [
    "Now, we need to prepare our VASP input files.\n",
    "\n",
    "First, let's import [Kpoints](http://pymatgen.org/pymatgen.io.vasp.inputs.html#pymatgen.io.vasp.inputs.Kpoints), [Incar](http://pymatgen.org/pymatgen.io.vasp.inputs.html#pymatgen.io.vasp.inputs.Incar), [Potcar](http://pymatgen.org/pymatgen.io.vasp.inputs.html#pymatgen.io.vasp.inputs.Potcar),  and [Pocar](http://pymatgen.org/pymatgen.io.vasp.inputs.html#pymatgen.io.vasp.inputs.Poscar) from *pymatgen* and then write some code to prepare a structure optimization calculation. We'll start off defining where we want everything saved and write a POTCAR corresonding to a PBE calculation of Si there."
   ]
  },
  {
   "cell_type": "code",
   "execution_count": null,
   "metadata": {},
   "outputs": [],
   "source": [
    "from pymatgen.io.vasp.inputs import Kpoints, Poscar, Potcar, Incar\n",
    "\n",
    "# This is how you create a POTCAR. However, if you don't have access \n",
    "# to the VASP pseudopotentials, this command may not work\n",
    "POTCAR = Potcar(\"Si\", functional=\"PBE\")"
   ]
  },
  {
   "cell_type": "markdown",
   "metadata": {},
   "source": [
    "Now lets use the Poscar class to create a POSCAR file for the DC-Si structure we just wrote."
   ]
  },
  {
   "cell_type": "code",
   "execution_count": null,
   "metadata": {},
   "outputs": [],
   "source": [
    "POSCAR = Poscar(Si_DC)\n",
    "print(POSCAR)"
   ]
  },
  {
   "cell_type": "markdown",
   "metadata": {},
   "source": [
    "Similarly, we can create a KPOINTS file with the Kpoints class..."
   ]
  },
  {
   "cell_type": "code",
   "execution_count": null,
   "metadata": {},
   "outputs": [],
   "source": [
    "# fill in this tuple with desired grid dimensions (e.g. (a, b, c))\n",
    "grid = \"YOUR CODE HERE\"\n",
    "\n",
    "# We're using the monkhorst_automatic constructor here to create a grid via the Monkhorst-Pack method.\n",
    "KPOINTS = Kpoints.monkhorst_automatic(kpts=grid)\n",
    "\n",
    "print(KPOINTS)"
   ]
  },
  {
   "cell_type": "markdown",
   "metadata": {},
   "source": [
    "Now let's create an INCAR file. We could do that by editing the example file directly, but let's do it with code instead so we can automate that process later."
   ]
  },
  {
   "cell_type": "code",
   "execution_count": null,
   "metadata": {
    "scrolled": true
   },
   "outputs": [],
   "source": [
    "my_incar_params = {\"EDIFF\" : 0.0004, \n",
    "                \"EDIFFG\" : -0.01, \n",
    "                \"ENCUT\" : \"YOUR CODE HERE\", \n",
    "                \"IBRION\" : \"YOUR CODE HERE\", \n",
    "                \"ISIF\" : \"YOUR CODE HERE\", \n",
    "                \"ISMEAR\" : \"YOUR CODE HERE\", \n",
    "                \"SIGMA\" : \"YOUR CODE HERE\" , \n",
    "                \"NSW\" : \"YOUR CODE HERE\",\n",
    "                \"NBANDS\" : 8,\n",
    "                \"LREAL\" : \"False\"}"
   ]
  },
  {
   "cell_type": "code",
   "execution_count": null,
   "metadata": {
    "scrolled": true
   },
   "outputs": [],
   "source": [
    "INCAR = Incar.from_dict(my_incar_params)\n",
    "print(INCAR)"
   ]
  },
  {
   "cell_type": "code",
   "execution_count": null,
   "metadata": {},
   "outputs": [],
   "source": [
    "def write_input_set(POTCAR, POSCAR, INCAR, KPOINTS, directory=\"new_input_set\", use_fake_potcar=True):\n",
    "    \n",
    "    import os\n",
    "    if not os.path.exists(directory):\n",
    "        os.makedirs(directory)\n",
    "\n",
    "    if not use_fake_potcar:\n",
    "        POTCAR.write_file(\"{}/POTCAR\".format(directory))\n",
    "    else:\n",
    "        from shutil import copyfile\n",
    "        # Copy over a fake potcar\n",
    "        copyfile(\"example_input_files/POTCAR\", \"directory\")\n",
    "    \n",
    "    POSCAR.write_file(\"{}/POSCAR\".format(directory))\n",
    "    INCAR.write_file(\"{}/INCAR\".format(directory))\n",
    "    KPOINTS.write_file(\"{}/KPOINTS\".format(directory))\n",
    "    print(\"Input set written to '{}'\".format(directory))"
   ]
  },
  {
   "cell_type": "markdown",
   "metadata": {},
   "source": [
    "Okay, let's write these to our directory and then run fake_vasp on it!"
   ]
  },
  {
   "cell_type": "code",
   "execution_count": null,
   "metadata": {},
   "outputs": [],
   "source": [
    "# Directory where you want to save the files. e.g. \"my_part_1/Si_DC\"\n",
    "my_directory = # YOUR CODE HERE\n",
    "\n",
    "write_input_set(POTCAR, POSCAR, INCAR, KPOINTS, directory=my_directory)"
   ]
  },
  {
   "cell_type": "code",
   "execution_count": null,
   "metadata": {},
   "outputs": [],
   "source": [
    "!python fake_vasp.py #YOUR_DIRECTORY_NAME"
   ]
  },
  {
   "cell_type": "markdown",
   "metadata": {},
   "source": [
    "You should see some new files written to the directory you ran fake_vasp in."
   ]
  },
  {
   "cell_type": "code",
   "execution_count": null,
   "metadata": {},
   "outputs": [],
   "source": [
    "!ls #YOUR DIRECTORY NAME\n",
    "# If this produces an error and you're in a Windows shell, swap \"ls\" for \"dir\" and use quotes around the directory name"
   ]
  },
  {
   "cell_type": "markdown",
   "metadata": {},
   "source": [
    "You can get the final energy of the converged structure using pymatgen's Outcar class (example below)."
   ]
  },
  {
   "cell_type": "code",
   "execution_count": null,
   "metadata": {},
   "outputs": [],
   "source": [
    "from pymatgen.io.vasp.outputs import Outcar\n",
    "OUTCAR = Outcar(my_directory + \"/OUTCAR\")\n",
    "OUTCAR.final_energy"
   ]
  },
  {
   "cell_type": "markdown",
   "metadata": {},
   "source": [
    "We can now repeat the same process for the $\\beta$-Sn structure. Note we only have to prepare a new POSCAR for this. "
   ]
  },
  {
   "cell_type": "code",
   "execution_count": null,
   "metadata": {},
   "outputs": [],
   "source": [
    "# Define the lattice parameters, in Å\n",
    "lattice_parameter_a = # YOUR CODE HERE\n",
    "lattice_parameter_c = # YOUR CODE HERE\n",
    "\n",
    "# Create the tetragonal lattice\n",
    "tetragonal_lattice = Lattice.tetragonal(lattice_parameter_a, lattice_parameter_c)\n",
    "\n",
    "# Create a list of coordinates (i.e. [ [x1, y1, z1], [x2, y2, z2], ... ])\n",
    "BSn_coordinates = # YOUR CODE HERE \n",
    "\n",
    "BSn_species = [\"Si\" for coord in BSn_coordinates] # creates the list of Si species used when creating the Structure\n",
    "\n",
    "Si_BSn = Structure(tetragonal_lattice, species=BSn_species, coords=BSn_coordinates ) # creates the Structure"
   ]
  },
  {
   "cell_type": "code",
   "execution_count": null,
   "metadata": {},
   "outputs": [],
   "source": [
    "my_directory = # YOUR CODE HERE\n",
    "\n",
    "POSCAR = Poscar(Si_BSn)\n",
    "\n",
    "write_input_set(POTCAR, POSCAR, INCAR, KPOINTS, directory=my_directory)"
   ]
  },
  {
   "cell_type": "markdown",
   "metadata": {},
   "source": [
    "Okay, now let's run fake_vasp on the BSn input files!"
   ]
  },
  {
   "cell_type": "code",
   "execution_count": null,
   "metadata": {},
   "outputs": [],
   "source": [
    "!python fake_vasp.py #YOUR_DIRECTORY_NAME"
   ]
  },
  {
   "cell_type": "markdown",
   "metadata": {},
   "source": [
    "## Part C: Convergence tests\n",
    "\n",
    "For the convergence tests, we'll need to repeatedly run VASP using different input parameters. Let's start by combining the code we wrote above into a function that writes the input files we need given a structure, ENCUT value, and number of KPOINTS. We'll also include a helper function to make plotting the convergence curves easier."
   ]
  },
  {
   "cell_type": "code",
   "execution_count": null,
   "metadata": {},
   "outputs": [],
   "source": [
    "def make_convergence_calc(structure, ENCUT, n_kpoints, output_dir, incar_params, use_fake_potcar=True):\n",
    "    if not use_fake_potcar:\n",
    "        # make POTCAR\n",
    "        POTCAR = Potcar([\"Si\"], functional=\"PBE\")\n",
    "    else:\n",
    "        POTCAR = None\n",
    "    \n",
    "    # make POSCAR from primitive unit cell of structure\n",
    "    POSCAR = Poscar(SpacegroupAnalyzer(structure).get_primitive_standard_structure())\n",
    "    \n",
    "    # make KPOINTS from specified number of kpoints (n,n,n)\n",
    "    grid = (n_kpoints, n_kpoints, n_kpoints)\n",
    "    KPOINTS = Kpoints.monkhorst_automatic(kpts=grid)\n",
    "    \n",
    "    # Use our previous incar settings as starting point\n",
    "    incar_params = dict(incar_params) # make a copy so we don't mutate original dict\n",
    "    incar_params[\"ENCUT\"] = ENCUT\n",
    "    INCAR = Incar.from_dict(incar_params)\n",
    "    \n",
    "    # Write our input set to the directory\n",
    "    write_input_set(POTCAR, POSCAR, INCAR, KPOINTS, directory=output_dir)\n",
    "    \n",
    "    \n",
    "import matplotlib.pyplot as plt\n",
    "from math import log\n",
    "\n",
    "# Helper function to plot convergence test data.\n",
    "def plot_convergence(parameters, energies, xlabel=\"Cutoff Energy, $E_{cut} $ (eV)\", \n",
    "                     ylabel=\"Final Energy (eV/atom)\", title=\"Final Energy vs Cutoff Energy\",\n",
    "                     save_fig=False, filename=\"DC_ENCUT_conv.png\"):\n",
    "    \"\"\"Helper function to create convergence plots. \n",
    "    \n",
    "    Arguments:\n",
    "        parameters (list of int/float): independent variable (e.g. ENCUT or KPOINTS)\n",
    "        energies (list of float): resulting final energies\n",
    "        xlabel (str): label for the x-axis\n",
    "        ylabel (str): label for you y-axis\n",
    "        title (str): title for the plot\n",
    "        save_fig (bool): if True, figure is saved as a picture\n",
    "        filename (str): filename of picture\n",
    "        \"\"\"\n",
    "    \n",
    "    # plot the data\n",
    "    plt.plot(parameters, energies, 'rx')\n",
    "    plt.plot(parameters, energies, 'b-')\n",
    "    \n",
    "    # add labels to the plot\n",
    "    plt.xlabel(xlabel)\n",
    "    plt.ylabel(ylabel)\n",
    "    plt.title(title)\n",
    "    \n",
    "    # saves the plot in convergence_test_results/plots/ (WILL OVERWRITE FILES IF FILENAME IS NOT CHANGED)\n",
    "    if save_fig:\n",
    "        plt.savefig(\"convergence_test_results/plots/DC_ENCUT_conv.png\", bbox_inches='tight')\n",
    "    # show the plot here\n",
    "    plt.show()\n",
    "    "
   ]
  },
  {
   "cell_type": "markdown",
   "metadata": {},
   "source": [
    "Below is an example of how to use this function. We define two lists (one of the parameter we changed and one of the final energies returned by VASP) and then provide those to the function as input arguments."
   ]
  },
  {
   "cell_type": "code",
   "execution_count": 19,
   "metadata": {},
   "outputs": [
    {
     "data": {
      "image/png": "[encoded data removed]",
      "text/plain": [
       "<Figure size 432x288 with 1 Axes>"
      ]
     },
     "metadata": {
      "needs_background": "light"
     },
     "output_type": "display_data"
    }
   ],
   "source": [
    "example_ENCUTS = [100, 150, 200, 250, 300, 350, 400, 450, 500]\n",
    "example_energies = [log(i)/i for i in example_ENCUTS]\n",
    "\n",
    "# Example usage for plot_convergence\n",
    "plot_convergence(example_ENCUTS, example_energies, \n",
    "                 xlabel=\"Cutoff Energy, $E_{cut} $ (eV)\", \n",
    "                 ylabel=\"Final Energy (eV/atom)\", \n",
    "                 title = \"Final Energy vs Cutoff Energy for DC Si\")"
   ]
  },
  {
   "cell_type": "markdown",
   "metadata": {},
   "source": [
    "Okay, let's create some convergence tests!"
   ]
  },
  {
   "cell_type": "code",
   "execution_count": null,
   "metadata": {},
   "outputs": [],
   "source": [
    "# list of ENCUT values (e.g. [ENCUT_1, ENCUT_2, ...])\n",
    "Ecs = # YOUR CODE HERE \n",
    "\n",
    "# writes the ENCUT convergence test input sets to convergence_tests/DC/\n",
    "for E in Ecs:\n",
    "    dirname = \"convergence_tests/DC/E_{}_K_{}\".format(E, 6)\n",
    "    # We're using a (6,6,6) k-points grid for this convergence test\n",
    "    make_convergence_calc(Si_DC, E, 6, output_dir=dirname, incar_params=my_incar_params)"
   ]
  },
  {
   "cell_type": "code",
   "execution_count": null,
   "metadata": {
    "scrolled": true
   },
   "outputs": [],
   "source": [
    "# ENCUT value determined from last convergence test\n",
    "ENCUT = # YOUR CODE HERE\n",
    "\n",
    "# list of KPOINTS densities (n, n, n) (e.g. [k1, k2,, k3, ...])\n",
    "Ks = # YOUR CODE HERE \n",
    "\n",
    "# write the KPOINTS convergence test input sets to convergence_tests/DC/\n",
    "for K in Ks:\n",
    "    dirname = \"convergence_tests/DC/E_{}_K_{}\".format(ENCUT, K)\n",
    "    make_convergence_calc(Si_DC, ENCUT, K, output_dir=dirname, incar_params=my_incar_params)"
   ]
  },
  {
   "cell_type": "markdown",
   "metadata": {},
   "source": [
    "Now, after you have run fake_vasp in all of these directories (or used a script you wrote to do so) prepare the lists of ENCUT values and final energies and us them to plot the convergence curves."
   ]
  },
  {
   "cell_type": "code",
   "execution_count": null,
   "metadata": {},
   "outputs": [],
   "source": []
  }
 ],
 "metadata": {
  "kernelspec": {
   "display_name": "Python [conda env:mse215]",
   "language": "python",
   "name": "conda-env-mse215-py"
  },
  "language_info": {
   "codemirror_mode": {
    "name": "ipython",
    "version": 3
   },
   "file_extension": ".py",
   "mimetype": "text/x-python",
   "name": "python",
   "nbconvert_exporter": "python",
   "pygments_lexer": "ipython3",
   "version": "3.7.1"
  }
 },
 "nbformat": 4,
 "nbformat_minor": 2
}
